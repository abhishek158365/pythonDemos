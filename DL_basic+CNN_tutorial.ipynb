{
 "cells": [
  {
   "cell_type": "code",
   "execution_count": 1,
   "metadata": {},
   "outputs": [
    {
     "name": "stderr",
     "output_type": "stream",
     "text": [
      "C:\\Users\\Abhishek\\Anaconda3\\lib\\site-packages\\h5py\\__init__.py:36: FutureWarning: Conversion of the second argument of issubdtype from `float` to `np.floating` is deprecated. In future, it will be treated as `np.float64 == np.dtype(float).type`.\n",
      "  from ._conv import register_converters as _register_converters\n",
      "Using TensorFlow backend.\n"
     ]
    },
    {
     "data": {
      "text/plain": [
       "'1.12.0'"
      ]
     },
     "execution_count": 1,
     "metadata": {},
     "output_type": "execute_result"
    }
   ],
   "source": [
    "import keras\n",
    "import numpy as np\n",
    "import tensorflow as tf\n",
    "\n",
    "import os\n",
    "import cv2\n",
    "import pickle\n",
    "import matplotlib.pyplot as plt\n",
    "from tensorflow.keras.callbacks import TensorBoard\n",
    "import time\n",
    "import random\n",
    "tf.__version__"
   ]
  },
  {
   "cell_type": "code",
   "execution_count": 2,
   "metadata": {
    "collapsed": true
   },
   "outputs": [],
   "source": [
    "mnist = tf.keras.datasets.mnist\n",
    "(x_train,y_train),(x_test,y_test) = mnist.load_data()\n",
    "x_train=keras.utils.normalize(x_train,axis=1)\n",
    "x_test=keras.utils.normalize(x_test,axis=1)\n",
    "y_train=keras.utils.np_utils.to_categorical(y_train)\n",
    "y_test=keras.utils.np_utils.to_categorical(y_test)"
   ]
  },
  {
   "cell_type": "code",
   "execution_count": 3,
   "metadata": {},
   "outputs": [
    {
     "data": {
      "image/png": "[encoded data removed]",
      "text/plain": [
       "<Figure size 432x288 with 1 Axes>"
      ]
     },
     "metadata": {},
     "output_type": "display_data"
    }
   ],
   "source": [
    "plt.imshow(x_train[1], cmap=plt.cm.binary)\n",
    "plt.show()\n",
    "y_train[1]\n",
    "plt.style.use('ggplot')\n",
    "\n",
    "def plot_history(history):\n",
    "    acc = history.history['acc']\n",
    "    val_acc = history.history['val_acc']\n",
    "    loss = history.history['loss']\n",
    "    val_loss = history.history['val_loss']\n",
    "    x = range(1, len(acc) + 1)\n",
    "\n",
    "    plt.figure(figsize=(12, 5))\n",
    "    plt.subplot(1, 2, 1)\n",
    "    plt.plot(x, acc, 'b', label='Training acc')\n",
    "    plt.plot(x, val_acc, 'r', label='Validation acc')\n",
    "    plt.title('Training and validation accuracy')\n",
    "    plt.legend()\n",
    "    plt.subplot(1, 2, 2)\n",
    "    plt.plot(x, loss, 'b', label='Training loss')\n",
    "    plt.plot(x, val_loss, 'r', label='Validation loss')\n",
    "    plt.title('Training and validation loss')\n",
    "    plt.legend()"
   ]
  },
  {
   "cell_type": "code",
   "execution_count": 4,
   "metadata": {},
   "outputs": [
    {
     "name": "stdout",
     "output_type": "stream",
     "text": [
      "(60000, 28, 28)\n",
      "10\n",
      "2\n"
     ]
    }
   ],
   "source": [
    "print(x_train.shape)\n",
    "print(y_train.shape[1])\n",
    "print(np.unique(y_train).size)"
   ]
  },
  {
   "cell_type": "code",
   "execution_count": 5,
   "metadata": {
    "collapsed": true
   },
   "outputs": [],
   "source": [
    "output_dim=y_train.shape[1]\n",
    "modelNN=keras.models.Sequential()\n",
    "modelNN.add(keras.layers.Flatten())\n",
    "modelNN.add(keras.layers.Dense(128,activation=\"relu\"))\n",
    "modelNN.add(keras.layers.Dense(128,activation=\"relu\"))\n",
    "modelNN.add(keras.layers.Dense(output_dim,activation=\"softmax\"))\n",
    "\n",
    "modelNN.compile(optimizer=\"adam\",loss='categorical_crossentropy',metrics=['accuracy'])"
   ]
  },
  {
   "cell_type": "code",
   "execution_count": 6,
   "metadata": {},
   "outputs": [
    {
     "name": "stdout",
     "output_type": "stream",
     "text": [
      "Train on 60000 samples, validate on 10000 samples\n",
      "Epoch 1/20\n",
      "60000/60000 [==============================] - 12s 194us/step - loss: 0.2595 - acc: 0.9237 - val_loss: 0.1338 - val_acc: 0.9589\n",
      "Epoch 2/20\n",
      "60000/60000 [==============================] - 10s 160us/step - loss: 0.1057 - acc: 0.9672 - val_loss: 0.1032 - val_acc: 0.9686\n",
      "Epoch 3/20\n",
      "60000/60000 [==============================] - 9s 154us/step - loss: 0.0725 - acc: 0.9768 - val_loss: 0.1136 - val_acc: 0.9643\n",
      "Epoch 4/20\n",
      "60000/60000 [==============================] - 9s 154us/step - loss: 0.0521 - acc: 0.9835 - val_loss: 0.0899 - val_acc: 0.9738\n",
      "Epoch 5/20\n",
      "60000/60000 [==============================] - 9s 154us/step - loss: 0.0408 - acc: 0.9862 - val_loss: 0.0946 - val_acc: 0.9733\n",
      "Epoch 6/20\n",
      "60000/60000 [==============================] - 8s 140us/step - loss: 0.0304 - acc: 0.9901 - val_loss: 0.0900 - val_acc: 0.9729\n",
      "Epoch 7/20\n",
      "60000/60000 [==============================] - 8s 141us/step - loss: 0.0237 - acc: 0.9918 - val_loss: 0.0971 - val_acc: 0.9753\n",
      "Epoch 8/20\n",
      "60000/60000 [==============================] - 8s 140us/step - loss: 0.0209 - acc: 0.9930 - val_loss: 0.1187 - val_acc: 0.9704\n",
      "Epoch 9/20\n",
      "60000/60000 [==============================] - 8s 140us/step - loss: 0.0178 - acc: 0.9940 - val_loss: 0.1008 - val_acc: 0.9753\n",
      "Epoch 10/20\n",
      "60000/60000 [==============================] - 9s 142us/step - loss: 0.0155 - acc: 0.9944 - val_loss: 0.1082 - val_acc: 0.9750\n",
      "Epoch 11/20\n",
      "60000/60000 [==============================] - 9s 145us/step - loss: 0.0131 - acc: 0.9954 - val_loss: 0.1143 - val_acc: 0.9746\n",
      "Epoch 12/20\n",
      "60000/60000 [==============================] - 8s 139us/step - loss: 0.0141 - acc: 0.9955 - val_loss: 0.1164 - val_acc: 0.9772\n",
      "Epoch 13/20\n",
      "60000/60000 [==============================] - 8s 140us/step - loss: 0.0098 - acc: 0.9968 - val_loss: 0.1212 - val_acc: 0.9765\n",
      "Epoch 14/20\n",
      "60000/60000 [==============================] - 8s 142us/step - loss: 0.0104 - acc: 0.9965 - val_loss: 0.1391 - val_acc: 0.9727\n",
      "Epoch 15/20\n",
      "60000/60000 [==============================] - 8s 139us/step - loss: 0.0111 - acc: 0.9962 - val_loss: 0.1219 - val_acc: 0.9770\n",
      "Epoch 16/20\n",
      "60000/60000 [==============================] - 8s 139us/step - loss: 0.0098 - acc: 0.9967 - val_loss: 0.1232 - val_acc: 0.9779\n",
      "Epoch 17/20\n",
      "60000/60000 [==============================] - 8s 141us/step - loss: 0.0093 - acc: 0.9973 - val_loss: 0.1259 - val_acc: 0.9766\n",
      "Epoch 18/20\n",
      "60000/60000 [==============================] - 9s 145us/step - loss: 0.0091 - acc: 0.9970 - val_loss: 0.1582 - val_acc: 0.9724\n",
      "Epoch 19/20\n",
      "60000/60000 [==============================] - 8s 142us/step - loss: 0.0061 - acc: 0.9979 - val_loss: 0.1382 - val_acc: 0.9759\n",
      "Epoch 20/20\n",
      "60000/60000 [==============================] - 8s 139us/step - loss: 0.0081 - acc: 0.9972 - val_loss: 0.1307 - val_acc: 0.9763\n"
     ]
    }
   ],
   "source": [
    "history = modelNN.fit(x_train, y_train,\n",
    "                    epochs=20,\n",
    "                    verbose=True,\n",
    "                    validation_data=(x_test, y_test))"
   ]
  },
  {
   "cell_type": "code",
   "execution_count": 7,
   "metadata": {
    "scrolled": false
   },
   "outputs": [
    {
     "data": {
      "image/png": "[encoded data removed]",
      "text/plain": [
       "<Figure size 864x360 with 2 Axes>"
      ]
     },
     "metadata": {},
     "output_type": "display_data"
    }
   ],
   "source": [
    "plot_history(history)\n",
    "plt.show()"
   ]
  },
  {
   "cell_type": "code",
   "execution_count": 8,
   "metadata": {
    "collapsed": true
   },
   "outputs": [],
   "source": [
    "DATADIR=\"C:/Users/Abhishek/Documents/cat_dog_images\"\n",
    "CATEGORIES=[\"Dog\",\"Cat\"]"
   ]
  },
  {
   "cell_type": "code",
   "execution_count": 9,
   "metadata": {
    "collapsed": true
   },
   "outputs": [],
   "source": [
    "#### Loading cat dog data\n",
    "RESIZE=70\n",
    "\n",
    "training_data=[]\n",
    "for category in CATEGORIES:\n",
    "    path=os.path.join(DATADIR,category)\n",
    "    class_num=CATEGORIES.index(category)\n",
    "    for img in os.listdir(path):\n",
    "        try:\n",
    "            img_array=cv2.imread(os.path.join(path,img),cv2.IMREAD_GRAYSCALE)\n",
    "            new_array=cv2.resize(img_array,(RESIZE,RESIZE))\n",
    "            training_data.append([new_array,class_num])\n",
    "        except Exception as e :\n",
    "            pass\n",
    "    "
   ]
  },
  {
   "cell_type": "code",
   "execution_count": 10,
   "metadata": {},
   "outputs": [
    {
     "data": {
      "image/png": "[encoded data removed]",
      "text/plain": [
       "<Figure size 432x288 with 1 Axes>"
      ]
     },
     "metadata": {},
     "output_type": "display_data"
    }
   ],
   "source": [
    "plt.imshow(training_data[1][0],cmap=\"gray\")\n",
    "plt.show()"
   ]
  },
  {
   "cell_type": "code",
   "execution_count": 11,
   "metadata": {
    "collapsed": true
   },
   "outputs": [],
   "source": [
    "random.shuffle(training_data)"
   ]
  },
  {
   "cell_type": "code",
   "execution_count": 12,
   "metadata": {
    "collapsed": true
   },
   "outputs": [],
   "source": [
    "X=[]\n",
    "y=[]\n",
    "for features, label in training_data:\n",
    "    X.append(features)\n",
    "    y.append(label)\n",
    "    \n",
    "X = np.array(X).reshape(-1,RESIZE,RESIZE,1)"
   ]
  },
  {
   "cell_type": "code",
   "execution_count": 13,
   "metadata": {
    "collapsed": true
   },
   "outputs": [],
   "source": [
    "pickle_out = open(os.path.join(DATADIR,\"X.pickle\"),\"wb\")\n",
    "pickle.dump(X,pickle_out)\n",
    "pickle_out.close()\n",
    "\n",
    "pickle_out = open(os.path.join(DATADIR,\"y.pickle\"),\"wb\")\n",
    "pickle.dump(y,pickle_out)\n",
    "pickle_out.close()"
   ]
  },
  {
   "cell_type": "code",
   "execution_count": 14,
   "metadata": {
    "collapsed": true
   },
   "outputs": [],
   "source": [
    "pickle_in = open(os.path.join(DATADIR,\"X.pickle\"),\"rb\")\n",
    "X=pickle.load(pickle_in)\n",
    "\n",
    "pickle_in = open(os.path.join(DATADIR,\"y.pickle\"),\"rb\")\n",
    "y=pickle.load(pickle_in)"
   ]
  },
  {
   "cell_type": "code",
   "execution_count": 15,
   "metadata": {
    "collapsed": true
   },
   "outputs": [],
   "source": [
    "NAME=\"CvsD-CNN-128x2-{}\".format(int(time.time()))\n",
    "tensorboard=TensorBoard(log_dir='logs/{}'.format(NAME))"
   ]
  },
  {
   "cell_type": "code",
   "execution_count": 16,
   "metadata": {},
   "outputs": [
    {
     "data": {
      "text/plain": [
       "<tensorflow.python.keras.callbacks.TensorBoard at 0x1db6d95b5f8>"
      ]
     },
     "execution_count": 16,
     "metadata": {},
     "output_type": "execute_result"
    }
   ],
   "source": [
    "tensorboard"
   ]
  },
  {
   "cell_type": "code",
   "execution_count": 17,
   "metadata": {
    "collapsed": true
   },
   "outputs": [],
   "source": [
    "X=X/255.0\n",
    "\n",
    "#modelCN=keras.models.Sequential()\n",
    "#modelCN.add(keras.layers.Conv2D(128,(3,3),input_shape=X.shape[1:]))\n",
    "#modelCN.add(keras.layers.Activation(\"relu\"))\n",
    "#modelCN.add(keras.layers.MaxPooling2D(pool_size=(2,2)))\n",
    "#modelCN.add(keras.layers.Conv2D(128,(3,3)))\n",
    "#modelCN.add(keras.layers.Activation(\"relu\"))\n",
    "#modelCN.add(keras.layers.MaxPooling2D(pool_size=(2,2)))\n",
    "#modelCN.add(keras.layers.Flatten())\n",
    "#modelCN.add(keras.layers.Dense(128))\n",
    "#modelCN.add(keras.layers.Activation(\"relu\"))\n",
    "#modelCN.add(keras.layers.Dense(1))\n",
    "#modelCN.add(keras.layers.Activation('sigmoid'))\n",
    "\n",
    "#modelCN.compile(loss=\"binary_crossentropy\",\n",
    "#              optimizer=\"adam\",metrics=[\"accuracy\"])\n",
    "#histCN=modelCN.fit(X,y,batch_size=32,validation_split=0.2,epochs=20,callbacks=[tensorboard])"
   ]
  },
  {
   "cell_type": "code",
   "execution_count": 18,
   "metadata": {
    "collapsed": true
   },
   "outputs": [],
   "source": [
    "#plot_history(histCN)\n",
    "#plt.show()"
   ]
  },
  {
   "cell_type": "code",
   "execution_count": 19,
   "metadata": {},
   "outputs": [
    {
     "name": "stdout",
     "output_type": "stream",
     "text": [
      "3-conv-64-nodes-0-dense-1545949445\n",
      "Train on 17462 samples, validate on 7484 samples\n",
      "Epoch 1/7\n",
      "17462/17462 [==============================] - 18s 1ms/step - loss: 0.6238 - acc: 0.6378 - val_loss: 0.5350 - val_acc: 0.7413\n",
      "Epoch 2/7\n",
      "17462/17462 [==============================] - 17s 952us/step - loss: 0.5109 - acc: 0.7521 - val_loss: 0.5009 - val_acc: 0.7533\n",
      "Epoch 3/7\n",
      "17462/17462 [==============================] - 17s 1000us/step - loss: 0.4582 - acc: 0.7825 - val_loss: 0.4596 - val_acc: 0.7866\n",
      "Epoch 4/7\n",
      "17462/17462 [==============================] - 17s 968us/step - loss: 0.4126 - acc: 0.8119 - val_loss: 0.4323 - val_acc: 0.8022\n",
      "Epoch 5/7\n",
      "17462/17462 [==============================] - 17s 990us/step - loss: 0.3803 - acc: 0.8279 - val_loss: 0.4169 - val_acc: 0.8145\n",
      "Epoch 6/7\n",
      "17462/17462 [==============================] - 16s 903us/step - loss: 0.3467 - acc: 0.8457 - val_loss: 0.3986 - val_acc: 0.8247\n",
      "Epoch 7/7\n",
      "17462/17462 [==============================] - 16s 932us/step - loss: 0.3107 - acc: 0.8643 - val_loss: 0.4415 - val_acc: 0.8132\n"
     ]
    }
   ],
   "source": [
    "import time\n",
    "import keras.layers as kl\n",
    "\n",
    "dense_layers = [0]\n",
    "layer_sizes = [64]\n",
    "conv_layers = [3]\n",
    "#tensorboard=TensorBoard(log_dir='logs_all/{}'.format(NAME))\n",
    "\n",
    "for dense_layer in dense_layers:\n",
    "    for layer_size in layer_sizes:\n",
    "        for conv_layer in conv_layers:\n",
    "            NAME = \"{}-conv-{}-nodes-{}-dense-{}\".format(conv_layer,layer_size,dense_layer,int(time.time()))\n",
    "            print(NAME)\n",
    "            tensorboard=TensorBoard(log_dir='logs_all/{}'.format(NAME))\n",
    "            \n",
    "            model=keras.models.Sequential()\n",
    "            model.add(kl.Conv2D(layer_size,(3,3),input_shape=X.shape[1:]))\n",
    "            model.add(kl.Activation('relu'))\n",
    "            model.add(kl.MaxPooling2D(pool_size=(2,2)))\n",
    "            \n",
    "            for l in range(conv_layer-1):\n",
    "                model.add(kl.Conv2D(layer_size,(3,3),input_shape=X.shape[1:]))\n",
    "                model.add(kl.Activation('relu'))\n",
    "                model.add(kl.MaxPooling2D(pool_size=(2,2)))\n",
    "                \n",
    "            model.add(kl.Flatten())\n",
    "            for l in range(dense_layer):\n",
    "                model.add(kl.Dense(layer_size))\n",
    "                model.add(kl.Activation('relu'))\n",
    "            \n",
    "            model.add(kl.Dense(1))\n",
    "            model.add(kl.Activation('sigmoid'))\n",
    "            model.compile(loss='binary_crossentropy',\n",
    "                          optimizer='adam',metrics=['accuracy'])\n",
    "            model.fit(X,y,batch_size=32,epochs=7,\n",
    "                      validation_split=0.3,callbacks=[tensorboard])\n"
   ]
  },
  {
   "cell_type": "code",
   "execution_count": 20,
   "metadata": {
    "collapsed": true
   },
   "outputs": [],
   "source": [
    "model.save(\"CNN-3-D-0-64.model\")"
   ]
  },
  {
   "cell_type": "code",
   "execution_count": 23,
   "metadata": {
    "collapsed": true
   },
   "outputs": [],
   "source": [
    "CATEGORIES=[\"Dog\",\"Cat\"]\n",
    "RESIZE=70\n",
    "\n",
    "def prepare(filepath):\n",
    "    Dog_img=cv2.imread(filepath,cv2.IMREAD_GRAYSCALE)\n",
    "    Dog_img=cv2.resize(Dog_img,(RESIZE,RESIZE))\n",
    "    return Dog_img.reshape(-1,RESIZE,RESIZE,1)\n",
    "\n",
    "Dog_img=prepare(\"C:/Users/Abhishek/Documents/cat_dog_images/dog.jpg\")\n",
    "Cat_img=prepare(\"C:/Users/Abhishek/Documents/cat_dog_images/cat.jpg\")\n",
    "\n",
    "model_loaded=keras.models.load_model(\"CNN-3-D-0-64.model\")\n",
    "\n"
   ]
  },
  {
   "cell_type": "code",
   "execution_count": 27,
   "metadata": {},
   "outputs": [
    {
     "name": "stdout",
     "output_type": "stream",
     "text": [
      "Dog\n"
     ]
    }
   ],
   "source": [
    "prediction=model_loaded.predict([Dog_img])\n",
    "print(CATEGORIES[int(prediction)])"
   ]
  },
  {
   "cell_type": "code",
   "execution_count": 28,
   "metadata": {},
   "outputs": [
    {
     "name": "stdout",
     "output_type": "stream",
     "text": [
      "Cat\n"
     ]
    }
   ],
   "source": [
    "prediction=model_loaded.predict([Cat_img])\n",
    "print(CATEGORIES[int(prediction)])"
   ]
  },
  {
   "cell_type": "code",
   "execution_count": null,
   "metadata": {
    "collapsed": true
   },
   "outputs": [],
   "source": []
  }
 ],
 "metadata": {
  "kernelspec": {
   "display_name": "Python 3",
   "language": "python",
   "name": "python3"
  },
  "language_info": {
   "codemirror_mode": {
    "name": "ipython",
    "version": 3
   },
   "file_extension": ".py",
   "mimetype": "text/x-python",
   "name": "python",
   "nbconvert_exporter": "python",
   "pygments_lexer": "ipython3",
   "version": "3.6.3"
  }
 },
 "nbformat": 4,
 "nbformat_minor": 2
}
