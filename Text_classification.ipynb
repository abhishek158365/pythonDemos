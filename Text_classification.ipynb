{
 "cells": [
  {
   "cell_type": "code",
   "execution_count": 11,
   "metadata": {
    "collapsed": true
   },
   "outputs": [],
   "source": [
    "from sklearn import model_selection, preprocessing, linear_model, naive_bayes, metrics, svm\n",
    "from sklearn.feature_extraction.text import TfidfVectorizer, CountVectorizer\n",
    "from sklearn import decomposition\n",
    "from sklearn.feature_extraction.text import CountVectorizer\n",
    "#from sklearn import ensemble\n",
    "\n",
    "import pandas, xgboost, numpy, textblob, string\n",
    "from keras.preprocessing.text import Tokenizer\n",
    "from keras.preprocessing import text, sequence\n",
    "from keras import layers, models, optimizers"
   ]
  },
  {
   "cell_type": "code",
   "execution_count": 8,
   "metadata": {
    "collapsed": true
   },
   "outputs": [],
   "source": [
    "dt=pandas.read_csv(\"C:/Users/Abhishek/Documents/train.csv\")"
   ]
  },
  {
   "cell_type": "code",
   "execution_count": 10,
   "metadata": {
    "scrolled": false
   },
   "outputs": [
    {
     "data": {
      "text/html": [
       "<div>\n",
       "<style>\n",
       "    .dataframe thead tr:only-child th {\n",
       "        text-align: right;\n",
       "    }\n",
       "\n",
       "    .dataframe thead th {\n",
       "        text-align: left;\n",
       "    }\n",
       "\n",
       "    .dataframe tbody tr th {\n",
       "        vertical-align: top;\n",
       "    }\n",
       "</style>\n",
       "<table border=\"1\" class=\"dataframe\">\n",
       "  <thead>\n",
       "    <tr style=\"text-align: right;\">\n",
       "      <th></th>\n",
       "      <th>id</th>\n",
       "      <th>description</th>\n",
       "      <th>vertical</th>\n",
       "    </tr>\n",
       "  </thead>\n",
       "  <tbody>\n",
       "    <tr>\n",
       "      <th>0</th>\n",
       "      <td>33f44adb1f4ba55592e9437600d3b792</td>\n",
       "      <td>Top :-Net Ready To Stitch.(With Embroidery and...</td>\n",
       "      <td>gown</td>\n",
       "    </tr>\n",
       "    <tr>\n",
       "      <th>1</th>\n",
       "      <td>00af61babe05437813e226217a54eff6</td>\n",
       "      <td>Floor length Indo-Western anarkali made from b...</td>\n",
       "      <td>gown</td>\n",
       "    </tr>\n",
       "    <tr>\n",
       "      <th>2</th>\n",
       "      <td>0fcedce14373cbfc61bfb732c62e5322</td>\n",
       "      <td>Bring out the ethnic diva in you in this beige...</td>\n",
       "      <td>gown</td>\n",
       "    </tr>\n",
       "    <tr>\n",
       "      <th>3</th>\n",
       "      <td>47bcc2556bd3076d9828b744dfc9fd01</td>\n",
       "      <td>Introduce Your Feminine Elegance With This Ama...</td>\n",
       "      <td>gown</td>\n",
       "    </tr>\n",
       "    <tr>\n",
       "      <th>4</th>\n",
       "      <td>62c799f02b5c2acddcaba75c533cbd7b</td>\n",
       "      <td>DivineIndia Beige, Light Blue Coloured Silky N...</td>\n",
       "      <td>gown</td>\n",
       "    </tr>\n",
       "  </tbody>\n",
       "</table>\n",
       "</div>"
      ],
      "text/plain": [
       "                                 id  \\\n",
       "0  33f44adb1f4ba55592e9437600d3b792   \n",
       "1  00af61babe05437813e226217a54eff6   \n",
       "2  0fcedce14373cbfc61bfb732c62e5322   \n",
       "3  47bcc2556bd3076d9828b744dfc9fd01   \n",
       "4  62c799f02b5c2acddcaba75c533cbd7b   \n",
       "\n",
       "                                         description vertical  \n",
       "0  Top :-Net Ready To Stitch.(With Embroidery and...     gown  \n",
       "1  Floor length Indo-Western anarkali made from b...     gown  \n",
       "2  Bring out the ethnic diva in you in this beige...     gown  \n",
       "3  Introduce Your Feminine Elegance With This Ama...     gown  \n",
       "4  DivineIndia Beige, Light Blue Coloured Silky N...     gown  "
      ]
     },
     "execution_count": 10,
     "metadata": {},
     "output_type": "execute_result"
    }
   ],
   "source": [
    "dt.head()"
   ]
  },
  {
   "cell_type": "code",
   "execution_count": 4,
   "metadata": {
    "collapsed": true
   },
   "outputs": [],
   "source": [
    "train_x, valid_x, train_y, valid_y = model_selection.train_test_split(dt['description'], dt['vertical'])\n",
    "encoder = preprocessing.LabelEncoder()\n",
    "train_y = encoder.fit_transform(train_y)\n",
    "valid_y = encoder.fit_transform(valid_y)"
   ]
  },
  {
   "cell_type": "code",
   "execution_count": 5,
   "metadata": {
    "collapsed": true
   },
   "outputs": [],
   "source": [
    "tokenizer = Tokenizer(num_words=5000)\n",
    "tokenizer.fit_on_texts(train_x)"
   ]
  },
  {
   "cell_type": "code",
   "execution_count": 18,
   "metadata": {},
   "outputs": [],
   "source": [
    "vectorizer=CountVectorizer()\n",
    "vectorizer.fit(train_x)\n",
    "X_train=vectorizer.transform(train_x)\n",
    "X_test=vectorizer.transform(valid_x)"
   ]
  },
  {
   "cell_type": "code",
   "execution_count": null,
   "metadata": {
    "collapsed": true
   },
   "outputs": [],
   "source": [
    "from sklearn.linear_model import LogisticRegression\n",
    "classifier = LogisticRegression(multi_class='multinomial', solver='newton-cg')\n",
    "classifier.fit(X_train, train_y)\n",
    "score = classifier.score(X_test,valid_y)\n",
    "print(\"Accuracy:\", score)"
   ]
  },
  {
   "cell_type": "code",
   "execution_count": null,
   "metadata": {
    "collapsed": true
   },
   "outputs": [],
   "source": [
    "train_y"
   ]
  }
 ],
 "metadata": {
  "kernelspec": {
   "display_name": "Python 3",
   "language": "python",
   "name": "python3"
  },
  "language_info": {
   "codemirror_mode": {
    "name": "ipython",
    "version": 3
   },
   "file_extension": ".py",
   "mimetype": "text/x-python",
   "name": "python",
   "nbconvert_exporter": "python",
   "pygments_lexer": "ipython3",
   "version": "3.6.3"
  }
 },
 "nbformat": 4,
 "nbformat_minor": 2
}
